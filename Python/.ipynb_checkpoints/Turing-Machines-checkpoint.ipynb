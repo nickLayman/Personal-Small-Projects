{
 "cells": [
  {
   "cell_type": "markdown",
   "id": "6ce7be96",
   "metadata": {},
   "source": [
    "## Defining the TM class"
   ]
  },
  {
   "cell_type": "code",
   "execution_count": 51,
   "id": "714b4722",
   "metadata": {},
   "outputs": [],
   "source": [
    "from IPython.display import clear_output\n",
    "import time\n",
    "import numbers\n",
    "\n",
    "\n",
    "class TM:\n",
    "    def __init__(self, init_state=\"A\", halt_state=\"HALT\", init_tape=[], init_pos=0, init_steps=0, delta={}):\n",
    "        self.init_state = init_state\n",
    "        self.init_tape = init_tape.copy()\n",
    "        self.init_pos = init_pos\n",
    "        self.init_steps = init_steps\n",
    "        if init_tape:\n",
    "            self.tape = init_tape\n",
    "        else:\n",
    "            self.tape = [0]\n",
    "        self.pos = init_pos\n",
    "        self.steps = init_steps\n",
    "        self.state = init_state\n",
    "        self.halt_state = halt_state\n",
    "        self.delta = delta\n",
    "    \n",
    "    \n",
    "    def reset(self):\n",
    "        self.__init__(init_state=self.init_state, halt_state=self.halt_state, init_tape=self.init_tape, \n",
    "                      init_pos=self.init_pos, init_steps=self.init_steps, delta=self.delta)\n",
    "    \n",
    "    \n",
    "    def simulate_step(self, delay=0):\n",
    "        if isinstance(delay, numbers.Number):\n",
    "            tmp = delay\n",
    "            delay = lambda x: tmp\n",
    "        \n",
    "        self.steps += 1\n",
    "        read = self.tape[self.pos]\n",
    "        rule = self.delta[self.state][read]\n",
    "\n",
    "        write = rule[0]\n",
    "        direction = rule[1]\n",
    "        self.state = rule[2]\n",
    "\n",
    "        self.tape[self.pos] = write\n",
    "\n",
    "        if direction == \"L\":\n",
    "            self.pos -= 1\n",
    "        else:\n",
    "            self.pos += 1\n",
    "\n",
    "        if self.pos < 0:\n",
    "            self.tape = [0] + self.tape\n",
    "            self.pos += 1\n",
    "        if self.pos >= len(self.tape):\n",
    "            self.tape = self.tape + [0]\n",
    "        \n",
    "        time.sleep(delay(self.steps))\n",
    "    \n",
    "    \n",
    "    def simulate_steps(self, steps, verbose=1, delay=0):\n",
    "        for n in range(steps):\n",
    "            if verbose == 1:\n",
    "                self.print_tape()\n",
    "            self.simulate_step(delay=delay)\n",
    "        if verbose >= 0:\n",
    "            self.print_tape()\n",
    "            \n",
    "\n",
    "    def simulate(self, max_steps=-1, verbose=1, delay=0):\n",
    "        while self.steps < max_steps or max_steps == -1:\n",
    "            if verbose == 1:\n",
    "                self.print_tape()\n",
    "            \n",
    "            self.simulate_step(delay=delay)\n",
    "            \n",
    "            if self.state == self.halt_state:\n",
    "                break\n",
    "        \n",
    "        if verbose >= 0:\n",
    "            self.print_tape()\n",
    "\n",
    "    \n",
    "    def print_tape(self, print_tape=True, print_pos=True, print_steps=True, print_state=True, clear_prints=True):\n",
    "        # adds some formatting to the tape output string to show the current read symbol\n",
    "        result = \"\"\n",
    "        if print_tape:\n",
    "            result = str(self.tape)\n",
    "        if print_pos:\n",
    "            if clear_prints:\n",
    "                clear_output(wait=True)\n",
    "            # https://web.archive.org/web/20201214113226/http://ascii-table.com/ansi-escape-sequences.php\n",
    "            result = '\\033[2J' + result[:3*self.pos+1] + '\\033[1m' + '\\033[4m' + result[3*self.pos+1:3*self.pos+2] + '\\033[0m' + result[3*self.pos+2:]\n",
    "        if print_steps:\n",
    "            result = result + f\" steps: {self.steps}\"\n",
    "        if print_state:\n",
    "            result = result + f\" state: {self.state}\"\n",
    "        print(result, flush=True)"
   ]
  },
  {
   "cell_type": "markdown",
   "id": "05e5de52",
   "metadata": {},
   "source": [
    "## Example 2-state TM"
   ]
  },
  {
   "cell_type": "code",
   "execution_count": null,
   "id": "e680bbeb",
   "metadata": {},
   "outputs": [],
   "source": [
    "TM2_delta = {\n",
    "    \"A\": {0: [1, \"R\", \"B\"], 1: [1, \"L\", \"B\"]}, \n",
    "    \"B\": {0: [1, \"L\", \"A\"], 1: [1, \"L\", \"HALT\"]}\n",
    "    }\n",
    "TM2 = TM(delta=TM2_delta, init_tape=[0, 0, 0, 0], init_pos=2)\n",
    "\n",
    "TM2.simulate(delay=0.5)"
   ]
  },
  {
   "cell_type": "markdown",
   "id": "732b0c92",
   "metadata": {},
   "source": [
    "## Example 3-state TM"
   ]
  },
  {
   "cell_type": "code",
   "execution_count": null,
   "id": "17d66482",
   "metadata": {},
   "outputs": [],
   "source": [
    "TM3_delta = {\n",
    "    \"A\": {0: [1, \"R\", \"B\"], 1: [1, \"L\", \"HALT\"]}, \n",
    "    \"B\": {0: [1, \"L\", \"B\"], 1: [0, \"R\", \"C\"]}, \n",
    "    \"C\": {0: [1, \"L\", \"C\"], 1: [1, \"L\", \"A\"]}\n",
    "    }\n",
    "TM3 = TM(delta=TM3_delta, init_tape=[0, 0, 0, 0, 0], init_pos=1)\n",
    "\n",
    "TM3.simulate(delay=0.2)"
   ]
  },
  {
   "cell_type": "markdown",
   "id": "53846c47",
   "metadata": {},
   "source": [
    "## TM for doubling the number of ones in a run:\n",
    "### Tape description: $(A0) 1^m \\mapsto (H0) 1^{2m}$\n",
    "\n",
    "[//]:# (If n is even, takes n^2 + 4n + 4 steps)\n",
    "[//]:# (Or $2k \\mapsto 4k^2 + 8k + 4$)\n",
    "\n",
    "[//]:# (If n is odd, takes n^2 + 2n + 5 steps)\n",
    "[//]:# (Or $2k+1 \\mapsto 4k^2 + 8k + 8)"
   ]
  },
  {
   "cell_type": "code",
   "execution_count": null,
   "id": "39b5a473",
   "metadata": {},
   "outputs": [],
   "source": [
    "# Define a TM which takes (A0) 1^(m) and returns (HALT0) 1^(2m)\n",
    "doubling_delta = {\n",
    "    \"A\": {0: [0, \"R\", \"B\"],    1: [0, \"L\", \"C\"]}, \n",
    "    \"B\": {0: [0, \"L\", \"E\"],    1: [1, \"R\", \"A\"]}, \n",
    "    \"C\": {0: [1, \"R\", \"A\"],    1: [1, \"L\", \"D\"]}, \n",
    "    \"D\": {0: [0, \"L\", \"C\"],    1: [0, \"L\", \"C\"]}, \n",
    "    \"E\": {0: [0, \"L\", \"E\"],    1: [0, \"L\", \"G\"]}, \n",
    "    \"F\": {0: [1, \"L\", \"HALT\"], 1: [1, \"L\", \"G\"]}, \n",
    "    \"G\": {0: [1, \"L\", \"F\"],    1: [1, \"L\", \"F\"]}\n",
    "}\n",
    "doubling_TM = TM(delta=doubling_delta, init_tape=[0, 1, 1, 1])\n",
    "\n",
    "doubling_TM.simulate(delay=0.2)"
   ]
  },
  {
   "cell_type": "markdown",
   "id": "db47e4db",
   "metadata": {},
   "source": [
    "## TM for multiplication (also example of addition)\n",
    "### Tape description: $1^n 0 1^m (A0) \\mapsto (H0)1^{n\\cdot m}$"
   ]
  },
  {
   "cell_type": "code",
   "execution_count": 52,
   "id": "68c6b21d",
   "metadata": {},
   "outputs": [
    {
     "name": "stdout",
     "output_type": "stream",
     "text": [
      "\u001b[2J[0, 0, 0, 0, 0, 0, 0, 0, 0, \u001b[1m\u001b[4m0\u001b[0m, 1, 1, 1, 1, 1, 1, 1, 1, 1, 1, 1, 1] steps: 309 state: HALT\n"
     ]
    }
   ],
   "source": [
    "MULT_delta = {\n",
    "    \"A\": {0: [0, \"L\", \"B\"], 1: [1, \"R\", \"A\"]}, \n",
    "    \"B\": {0: [0, \"L\", \"C\"], 1: [1, \"L\", \"B\"]}, \n",
    "    \"C\": {0: [0, \"R\", \"D\"], 1: [1, \"L\", \"C\"]}, \n",
    "    \"D\": {0: [0, \"R\", \"M\"], 1: [0, \"R\", \"E\"]}, \n",
    "    \"E\": {0: [0, \"R\", \"F\"], 1: [1, \"R\", \"E\"]}, \n",
    "    \"F\": {0: [0, \"L\", \"G\"], 1: [1, \"R\", \"F\"]}, \n",
    "    \"G\": {0: [0, \"R\", \"A\"], 1: [0, \"R\", \"H\"]}, \n",
    "    \"H\": {0: [0, \"R\", \"I\"], 1: [1, \"R\", \"H\"]}, \n",
    "    \"I\": {0: [1, \"L\", \"J\"], 1: [1, \"R\", \"I\"]}, \n",
    "    \"J\": {0: [0, \"L\", \"K\"], 1: [1, \"L\", \"J\"]}, \n",
    "    \"K\": {0: [1, \"L\", \"G\"], 1: [1, \"L\", \"K\"]}, \n",
    "    \"M\": {0: [0, \"L\", \"N\"], 1: [0, \"R\", \"M\"]}, \n",
    "    \"N\": {0: [0, \"R\", \"HALT\"], 1: [0, \"R\", \"HALT\"]}\n",
    "    }\n",
    "\n",
    "MULT_TM = TM(delta = MULT_delta, init_tape = [0, 1, 1, 1, 0, 1, 1, 1, 1, 0, 0, 0, 0, 0, 0, 0, 0, 0, 0, 0, 0, 0], init_pos = 8)\n",
    "\n",
    "MULT_TM.simulate(delay=0.1)"
   ]
  },
  {
   "cell_type": "markdown",
   "id": "b55b9eed",
   "metadata": {},
   "source": [
    "## Other TMs"
   ]
  },
  {
   "cell_type": "code",
   "execution_count": null,
   "id": "fd8f8dec",
   "metadata": {},
   "outputs": [],
   "source": [
    "# Defines the known busy beavers and the 5-champion\n",
    "BB2_delta = {\n",
    "    \"A\": {0: [1, \"R\", \"B\"], 1: [1, \"L\", \"B\"]}, \n",
    "    \"B\": {0: [1, \"L\", \"A\"], 1: [1, \"L\", \"HALT\"]}\n",
    "    }\n",
    "BB2_TM = TM(delta=BB2_delta)\n",
    "\n",
    "BB3_delta = {\n",
    "    \"A\": {0: [1, \"R\", \"B\"], 1: [1, \"L\", \"HALT\"]}, \n",
    "    \"B\": {0: [1, \"L\", \"B\"], 1: [0, \"R\", \"C\"]}, \n",
    "    \"C\": {0: [1, \"L\", \"C\"], 1: [1, \"L\", \"A\"]}\n",
    "    }\n",
    "BB3_TM = TM(delta=BB3_delta)\n",
    "\n",
    "BB4_delta = {\n",
    "    \"A\": {0: [1, \"R\", \"B\"], 1: [1, \"L\", \"B\"]}, \n",
    "    \"B\": {0: [1, \"L\", \"A\"], 1: [0, \"L\", \"C\"]}, \n",
    "    \"C\": {0: [1, \"L\", \"HALT\"], 1: [1, \"L\", \"D\"]}, \n",
    "    \"D\": {0: [1, \"R\", \"D\"], 1: [0, \"R\", \"A\"]}\n",
    "    }\n",
    "BB4_TM = TM(delta=BB4_delta)\n",
    "\n",
    "champion5_delta = {\n",
    "    \"A\": {0: [1, \"R\", \"B\"], 1: [1, \"L\", \"C\"]}, \n",
    "    \"B\": {0: [1, \"R\", \"C\"], 1: [1, \"R\", \"B\"]}, \n",
    "    \"C\": {0: [1, \"R\", \"D\"], 1: [0, \"L\", \"E\"]}, \n",
    "    \"D\": {0: [1, \"L\", \"A\"], 1: [1, \"L\", \"D\"]}, \n",
    "    \"E\": {0: [1, \"L\", \"HALT\"], 1: [0, \"L\", \"A\"]}\n",
    "    }\n",
    "champion5_TM = TM(delta=champion5_delta)"
   ]
  },
  {
   "cell_type": "code",
   "execution_count": null,
   "id": "7df751ae",
   "metadata": {},
   "outputs": [],
   "source": [
    "# simulates the 5-champion with a variant delay timer which speeds past the beginning 50-75 steps\n",
    "champion5_TM.reset()\n",
    "champion5_TM.simulate(delay= lambda x:max(0, 1/4-10/x))"
   ]
  },
  {
   "cell_type": "code",
   "execution_count": null,
   "id": "1c2b5b69",
   "metadata": {},
   "outputs": [],
   "source": []
  }
 ],
 "metadata": {
  "kernelspec": {
   "display_name": "Python 3",
   "language": "python",
   "name": "python3"
  },
  "language_info": {
   "codemirror_mode": {
    "name": "ipython",
    "version": 3
   },
   "file_extension": ".py",
   "mimetype": "text/x-python",
   "name": "python",
   "nbconvert_exporter": "python",
   "pygments_lexer": "ipython3",
   "version": "3.8.8"
  }
 },
 "nbformat": 4,
 "nbformat_minor": 5
}
