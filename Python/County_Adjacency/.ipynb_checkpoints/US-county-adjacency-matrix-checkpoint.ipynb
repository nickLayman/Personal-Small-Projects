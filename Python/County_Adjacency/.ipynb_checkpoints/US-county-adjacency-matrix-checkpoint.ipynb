{
 "cells": [
  {
   "cell_type": "code",
   "execution_count": 1,
   "id": "fcf52a71",
   "metadata": {},
   "outputs": [],
   "source": [
    "import numpy as np\n",
    "\n",
    "FILE_PATH = \"C:\\\\Users\\\\Nick_Layman\\\\Documents\\\\GitHub\\\\Personal-Small-Projects\\\\Python\\\\County_Adjacency\\\\county_adjacency.txt\""
   ]
  },
  {
   "cell_type": "code",
   "execution_count": 28,
   "id": "d5142d0b",
   "metadata": {},
   "outputs": [],
   "source": [
    "def make_adjacency_dict(accepted_state_abbreviations):\n",
    "    neighbors = {}\n",
    "    with open(FILE_PATH) as file:\n",
    "        for line in file:\n",
    "            # break the line into a list based on tabs in the line (it's a tab-delimited text file)\n",
    "            pieces = line.split(\"\\t\")\n",
    "            # if this line is a new county whose neighbors are about to be listed\n",
    "            if pieces[0] != \"\":\n",
    "                county_name = pieces[0][1:-1]\n",
    "                county_fips = pieces[1]\n",
    "                county_state_abbreviation = county_name[-2:]\n",
    "                # if this county is in the states we're looking at\n",
    "                if county_state_abbreviation in accepted_state_abbreviations:\n",
    "                    # make an empty entry in the dictionary\n",
    "                    neighbors[county_name] = []\n",
    "                    neighbors[county_fips] = []\n",
    "                # the first neighbor is on the same line as the county name so there's some weirdness here\n",
    "                first_neighbor_name = pieces[2][1:-1]\n",
    "                first_neighbor_fips = pieces[3][:-1]\n",
    "                first_neighbor_state_abbreviation = first_neighbor_name[-2:]\n",
    "                # if the first neighbor is in the states we're looking at\n",
    "                if first_neighbor_state_abbreviation in accepted_state_abbreviations:\n",
    "                    # add the first neighbor to this county's dictionary entry\n",
    "                    neighbors[county_name] = [first_neighbor_name]\n",
    "                    neighbors[county_fips] = [first_neighbor_fips]\n",
    "            # if this line is in the list of neighbors for the county in a previous line\n",
    "            else:\n",
    "                neighbor_name = pieces[2][1:-1]\n",
    "                neighbor_fips = pieces[3][:-1]\n",
    "                neighbor_state_abbreviation = neighbor_name[-2:]\n",
    "                # if the current county and this neighbor are both in the states we're looking at\n",
    "                if (county_state_abbreviation in accepted_state_abbreviations) and (\n",
    "                    neighbor_state_abbreviation in accepted_state_abbreviations):\n",
    "                    # add the neighbor to this county's dictionary entry\n",
    "                    neighbors[county_name].append(neighbor_name)\n",
    "                    neighbors[county_fips].append(neighbor_fips)\n",
    "    return neighbors\n",
    "\n",
    "def make_adjacency_matrix(accepted_state_abbreviations):\n",
    "    adj_dict = make_adjacency_dict(accepted_state_abbreviations)\n",
    "    # all accepted counties sorted alphabetically\n",
    "    counties = sorted([key for key in adj_dict if key[-2:] in accepted_state_abbreviations])\n",
    "    # start with a matrix of all zeros\n",
    "    adj_matrix = np.zeros((len(counties), len(counties)))\n",
    "    for row in range(len(counties)):\n",
    "        for col in range(len(counties)):\n",
    "            # if the row and column counties are adjacent, put a 1 in that space\n",
    "            if counties[col] in adj_dict[counties[row]]:\n",
    "                adj_matrix[row, col] = 1\n",
    "    return adj_matrix"
   ]
  },
  {
   "cell_type": "code",
   "execution_count": 29,
   "id": "ec5dfc94",
   "metadata": {},
   "outputs": [],
   "source": [
    "contiguous_states = ['AL'      , 'AZ', 'AR', 'CA', 'CO', 'CT', 'DE', 'FL', 'GA', \n",
    "                           'ID', 'IL', 'IN', 'IA', 'KS', 'KY', 'LA', 'ME', 'MD', \n",
    "                     'MA', 'MI', 'MN', 'MS', 'MO', 'MT', 'NE', 'NV', 'NH', 'NJ', \n",
    "                     'NM', 'NY', 'NC', 'ND', 'OH', 'OK', 'OR', 'PA', 'RI', 'SC', \n",
    "                     'SD', 'TN', 'TX', 'UT', 'VT', 'VA', 'WA', 'WV', 'WI', 'WY']\n",
    "noncontiguous_states = ['AK', 'HI']\n",
    "DC = ['DC']\n",
    "territories = ['PR', 'AS', 'GU', 'MP', 'VI']"
   ]
  },
  {
   "cell_type": "code",
   "execution_count": 30,
   "id": "5ba51443",
   "metadata": {},
   "outputs": [
    {
     "name": "stdout",
     "output_type": "stream",
     "text": [
      "[[1. 0. 0. ... 0. 0. 0.]\n",
      " [0. 1. 0. ... 0. 0. 0.]\n",
      " [0. 0. 1. ... 0. 0. 0.]\n",
      " ...\n",
      " [0. 0. 0. ... 1. 0. 0.]\n",
      " [0. 0. 0. ... 0. 1. 0.]\n",
      " [0. 0. 0. ... 0. 0. 1.]]\n"
     ]
    }
   ],
   "source": [
    "print(make_adjacency_matrix(contiguous_states))\n",
    "MI_adj_matrix = make_adjacency_matrix(['MI'])\n",
    "np.savetxt(\"adjacency_MI.csv\", MI_adj_matrix, delimiter=\",\")"
   ]
  },
  {
   "cell_type": "code",
   "execution_count": 31,
   "id": "518b967a",
   "metadata": {},
   "outputs": [
    {
     "name": "stdout",
     "output_type": "stream",
     "text": [
      "['01001', '01021', '01047', '01051', '01085', '01101']\n",
      "['Monmouth County, NJ', 'Bronx County, NY', 'Kings County, NY', 'Nassau County, NY', 'New York County, NY', 'Queens County, NY', 'Richmond County, NY']\n"
     ]
    }
   ],
   "source": [
    "adj_dict = make_adjacency_dict(contiguous_states)\n",
    "print(adj_dict[\"01001\"])\n",
    "print(adj_dict[\"Queens County, NY\"])"
   ]
  },
  {
   "cell_type": "code",
   "execution_count": null,
   "id": "abcf2063",
   "metadata": {},
   "outputs": [],
   "source": []
  }
 ],
 "metadata": {
  "kernelspec": {
   "display_name": "Python 3 (ipykernel)",
   "language": "python",
   "name": "python3"
  },
  "language_info": {
   "codemirror_mode": {
    "name": "ipython",
    "version": 3
   },
   "file_extension": ".py",
   "mimetype": "text/x-python",
   "name": "python",
   "nbconvert_exporter": "python",
   "pygments_lexer": "ipython3",
   "version": "3.7.11"
  }
 },
 "nbformat": 4,
 "nbformat_minor": 5
}
